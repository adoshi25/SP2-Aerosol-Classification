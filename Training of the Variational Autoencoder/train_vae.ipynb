{
  "nbformat": 4,
  "nbformat_minor": 0,
  "metadata": {
    "colab": {
      "provenance": []
    },
    "kernelspec": {
      "name": "python3",
      "display_name": "Python 3"
    },
    "language_info": {
      "name": "python"
    }
  },
  "cells": [
    {
      "cell_type": "code",
      "execution_count": null,
      "metadata": {
        "id": "5YxUspaSzidt"
      },
      "outputs": [],
      "source": [
        "channel_0 = (140081, )\n",
        "\n",
        "# Initialize vanilla VAE\n",
        "# Change to latent_dim = 3 for 3D latent space\n",
        "vae = pv.models.iVAE(data_dim = (400,), latent_dim = 2, invariances=None, seed=0)\n",
        "\n",
        "# Initialize trainer\n",
        "trainer = pv.trainers.SVItrainer(vae)\n",
        "\n",
        "# Train for n epochs:\n",
        "for e in range(55):\n",
        "    trainer.step(train_loader_0)\n",
        "    trainer.print_statistics()"
      ]
    },
    {
      "cell_type": "code",
      "source": [
        "# CHANNEL 0 Latent Manifold\n",
        "vae.manifold2d(d=10)"
      ],
      "metadata": {
        "id": "MyFeNstEznNk"
      },
      "execution_count": null,
      "outputs": []
    },
    {
      "cell_type": "code",
      "source": [
        "channel_1 = (140081, )\n",
        "\n",
        "# Initialize vanilla VAE\n",
        "# Change to latent_dim = 3 for 3D latent space\n",
        "vae = pv.models.iVAE(data_dim = (400,), latent_dim = 2, invariances=None, seed=0)\n",
        "\n",
        "# Initialize trainer\n",
        "trainer = pv.trainers.SVItrainer(vae)\n",
        "\n",
        "# Train for n epochs:\n",
        "for e in range(55):\n",
        "    trainer.step(train_loader_1)\n",
        "    trainer.print_statistics()"
      ],
      "metadata": {
        "id": "3WBZdHx6zsAV"
      },
      "execution_count": null,
      "outputs": []
    },
    {
      "cell_type": "code",
      "source": [
        "# CHANNEL 1 Latent Manifold\n",
        "vae.manifold2d(d = 10)"
      ],
      "metadata": {
        "id": "pFWh9Qd5zvr1"
      },
      "execution_count": null,
      "outputs": []
    }
  ]
}