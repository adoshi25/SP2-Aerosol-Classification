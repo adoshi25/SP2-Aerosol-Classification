{
  "nbformat": 4,
  "nbformat_minor": 0,
  "metadata": {
    "colab": {
      "provenance": []
    },
    "kernelspec": {
      "name": "python3",
      "display_name": "Python 3"
    },
    "language_info": {
      "name": "python"
    }
  },
  "cells": [
    {
      "cell_type": "code",
      "execution_count": null,
      "metadata": {
        "id": "13Vny_fH0-Wm"
      },
      "outputs": [],
      "source": [
        "incandescent_max = []\n",
        "incandescent_max = original_max_X_train[:, 1]\n",
        "\n",
        "new_incandescent_max = np.expand_dims(incandescent_max, axis = 1)\n",
        "new_incandescent_max.shape"
      ]
    },
    {
      "cell_type": "code",
      "source": [
        "scattering = []\n",
        "scattering = original_max_X_train[:, 0]\n",
        "\n",
        "new_scattering = np.expand_dims(scattering, axis = 1)\n",
        "new_scattering.shape"
      ],
      "metadata": {
        "id": "DX6GcPwP19hg"
      },
      "execution_count": null,
      "outputs": []
    },
    {
      "cell_type": "code",
      "source": [
        "color_channel_ratio.shape\n",
        "color_channel_ratio = np.array(color_channel_ratio)\n",
        "color_channel_ratio = np.expand_dims(color_channel_ratio, axis = 1)\n",
        "\n",
        "color_channel_ratio.shape"
      ],
      "metadata": {
        "id": "T2gplR-k2Cc6"
      },
      "execution_count": null,
      "outputs": []
    },
    {
      "cell_type": "code",
      "source": [
        "np.count_nonzero(np.isinf(color_channel_ratio))\n",
        "bad_data = np.isinf(color_channel_ratio)\n",
        "bad_data = bad_data[:, 0]\n",
        "bad_data.shape"
      ],
      "metadata": {
        "id": "DsuSrhOq2Er4"
      },
      "execution_count": null,
      "outputs": []
    },
    {
      "cell_type": "code",
      "source": [
        "from sklearn.preprocessing import MinMaxScaler\n",
        "X_all = np.concatenate((z_mean.numpy(), z_mean_1.numpy(), new_scattering, new_incandescent_max, color_channel_ratio), axis = 1)\n",
        "X_filtered = X_all[~bad_data,:]\n",
        "scaler = MinMaxScaler()\n",
        "X_scaled = scaler.fit_transform(X_filtered)\n",
        "X_scaled.shape\n",
        "\n",
        "# X_scaled contains X_train without outliers\n",
        "# X_scaled contains those three properties as well"
      ],
      "metadata": {
        "id": "_r_lYT042HPL"
      },
      "execution_count": null,
      "outputs": []
    },
    {
      "cell_type": "code",
      "source": [
        "# Removing the Outliers\n",
        "Y_filtered = Y_train[~bad_data]\n",
        "Y_filtered\n",
        "Y_filtered.shape"
      ],
      "metadata": {
        "id": "hGGsbuP42LFl"
      },
      "execution_count": null,
      "outputs": []
    },
    {
      "cell_type": "code",
      "source": [
        "from sklearn.cluster import KMeans\n",
        "import matplotlib.pyplot as plt\n",
        "import seaborn as sns\n",
        "import pandas as pd\n",
        "\n",
        "n_clusters = 10\n",
        "kmeans = KMeans(n_clusters=n_clusters, random_state=42).fit(X_scaled)\n",
        "\n",
        "kmeans_labels = kmeans.labels_\n",
        "kmeans_centers = kmeans.cluster_centers_\n",
        "\n",
        "data = pd.DataFrame(X_scaled, columns=['z1', 'z2', 'z3', 'z4', 'scattering_max', 'incandescent_max', 'color_ratio'])\n",
        "data['Cluster'] = kmeans_labels\n",
        "\n",
        "sns.set_theme(style=\"whitegrid\")\n",
        "plt.figure(figsize=(10, 8), dpi=300)\n",
        "sns.scatterplot(data=data, x='color_ratio', y='incandescent_max', hue='Cluster', palette='viridis', alpha=0.6)\n",
        "\n",
        "for center in kmeans_centers:\n",
        "    plt.scatter(center[6], center[5], s=200, c='red', marker='X')\n",
        "\n",
        "plt.title('K-means Clustering in 2D Latent Space')\n",
        "plt.xlabel('Color Ratio')\n",
        "plt.ylabel('Incandescent Max')\n",
        "plt.xlim(0, 0.2)\n",
        "plt.legend(title='Cluster')\n",
        "\n",
        "plt.savefig('kmeans_clustering_high_res.png', dpi=300)\n",
        "plt.show()\n",
        "\n",
        "# HIGH Resolution Download\n",
        "# from google.colab import files\n",
        "# files.download('kmeans_clustering_high_res.png')\n"
      ],
      "metadata": {
        "id": "ZRKMEs3u2VrI"
      },
      "execution_count": null,
      "outputs": []
    },
    {
      "cell_type": "code",
      "source": [
        "from google.colab import files\n",
        "\n",
        "import matplotlib.pyplot as plt\n",
        "\n",
        "plt.figure(figsize=(10, 8), dpi=300)\n",
        "plt.xlim(0, 0.2)\n",
        "plt.scatter(data['color_ratio'], data['incandescent_max'], c=data['z1'], s=1, cmap='viridis', alpha=0.6)\n",
        "plt.colorbar()\n",
        "plt.savefig('scatter_plot_z1_high_res.png', dpi=300)\n",
        "# HIGH Resolution Download\n",
        "# plt.close()\n",
        "# files.download('scatter_plot_z1_high_res.png')\n",
        "\n",
        "\n",
        "plt.figure(figsize=(10, 8), dpi=300)\n",
        "plt.xlim(0, 0.2)\n",
        "plt.scatter(data['color_ratio'], data['incandescent_max'], c=data['z2'], s=1, cmap='viridis', alpha=0.6)\n",
        "plt.colorbar()\n",
        "plt.savefig('scatter_plot_z2_high_res.png', dpi=300)\n",
        "# HIGH Resolution Download\n",
        "# plt.close()\n",
        "# files.download(\"scatter_plot_z2_high_res.png\")\n",
        "\n",
        "plt.figure(figsize=(10, 8), dpi=300)\n",
        "plt.xlim(0, 0.2)\n",
        "plt.scatter(data['color_ratio'], data['incandescent_max'], c=data['z3'], s=1, cmap='viridis', alpha=0.6)\n",
        "plt.colorbar()\n",
        "plt.savefig('scatter_plot_z3_high_res.png', dpi=300)\n",
        "# HIGH Resolution Download\n",
        "# plt.close()\n",
        "# files.download(\"scatter_plot_z3_high_res.png\")\n",
        "\n",
        "plt.figure(figsize=(10, 8), dpi=300)\n",
        "plt.xlim(0, 0.2)\n",
        "plt.scatter(data['color_ratio'], data['incandescent_max'], c=data['z4'], s=1, cmap='viridis', alpha=0.6)\n",
        "plt.colorbar()\n",
        "plt.savefig('scatter_plot_z4_high_res.png', dpi=300)\n",
        "# HIGH Resolution Download\n",
        "# plt.close()\n",
        "# files.download(\"scatter_plot_z4_high_res.png\")"
      ],
      "metadata": {
        "id": "pUZgC-3V2Z9L"
      },
      "execution_count": null,
      "outputs": []
    }
  ]
}