{
  "nbformat": 4,
  "nbformat_minor": 0,
  "metadata": {
    "colab": {
      "provenance": []
    },
    "kernelspec": {
      "name": "python3",
      "display_name": "Python 3"
    },
    "language_info": {
      "name": "python"
    }
  },
  "cells": [
    {
      "cell_type": "code",
      "execution_count": null,
      "metadata": {
        "id": "jDLP1qRu2qoT"
      },
      "outputs": [],
      "source": [
        "from sklearn.model_selection import train_test_split\n",
        "X_train_rf, X_test_rf, y_train_rf, y_test_rf = train_test_split(X_scaled, Y_filtered, test_size=0.33, random_state=42)"
      ]
    },
    {
      "cell_type": "code",
      "source": [
        "from sklearn.ensemble import RandomForestClassifier\n",
        "rf = RandomForestClassifier()\n",
        "rf.fit(X_train_rf, y_train_rf)"
      ],
      "metadata": {
        "id": "XzQNv0Vq2ur-"
      },
      "execution_count": null,
      "outputs": []
    },
    {
      "cell_type": "code",
      "source": [
        "y_output = rf.predict(X_test_rf)"
      ],
      "metadata": {
        "id": "g6f2KFM_2xVx"
      },
      "execution_count": null,
      "outputs": []
    },
    {
      "cell_type": "code",
      "source": [
        "# CONFUSION Matrix for Random Forest Algorithmn\n",
        "# Illustrates the feasibility of Unsupervised Approach\n",
        "\n",
        "from sklearn.metrics import confusion_matrix\n",
        "import seaborn as sns\n",
        "import matplotlib.pyplot as plt\n",
        "from google.colab import files\n",
        "\n",
        "correlation_arr = confusion_matrix(y_output, y_test_rf, normalize='true')\n",
        "\n",
        "plt.figure(figsize=(10, 8), dpi=300)\n",
        "ax = sns.heatmap(correlation_arr, annot=True, fmt=\".2%\", cmap='viridis')\n",
        "ax.set_title('Confusion Matrix with Normalized Percentages')\n",
        "ax.set_ylabel('Predicted Label')\n",
        "ax.set_xlabel('True Label')\n",
        "\n",
        "plt.savefig('confusion_matrix_high_res.png', dpi=300)\n",
        "plt.show()\n",
        "# HIGH Resolution Download\n",
        "# files.download('confusion_matrix_high_res.png')"
      ],
      "metadata": {
        "id": "GELnaznb2zCs"
      },
      "execution_count": null,
      "outputs": []
    }
  ]
}