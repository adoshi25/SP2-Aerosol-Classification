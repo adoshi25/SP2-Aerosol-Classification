{
  "nbformat": 4,
  "nbformat_minor": 0,
  "metadata": {
    "colab": {
      "provenance": []
    },
    "kernelspec": {
      "name": "python3",
      "display_name": "Python 3"
    },
    "language_info": {
      "name": "python"
    }
  },
  "cells": [
    {
      "cell_type": "code",
      "execution_count": null,
      "metadata": {
        "id": "x94rAdcNtdb2"
      },
      "outputs": [],
      "source": [
        "!pip install -q git+https://github.com/ziatdinovmax/pyroved.git"
      ]
    },
    {
      "cell_type": "code",
      "source": [
        "import os\n",
        "import math\n",
        "import numpy as np\n",
        "import seaborn as sns\n",
        "import pandas as pd\n",
        "import time\n",
        "import random\n",
        "\n",
        "import torch\n",
        "\n",
        "from torch.nn import Conv1d, ConvTranspose1d\n",
        "from torch.nn import Linear as Lin, ReLU, Sigmoid, ConstantPad1d\n",
        "from torch.utils.data import Dataset, DataLoader\n",
        "from sklearn.model_selection import StratifiedKFold\n",
        "\n",
        "from matplotlib import pyplot as plt\n",
        "from tqdm import tqdm"
      ],
      "metadata": {
        "id": "kkKmmHodtsDh"
      },
      "execution_count": null,
      "outputs": []
    },
    {
      "cell_type": "code",
      "source": [
        "import pyroved as pv\n",
        "import torch\n",
        "import matplotlib.pyplot as plt"
      ],
      "metadata": {
        "id": "_FzvAH9etxmC"
      },
      "execution_count": null,
      "outputs": []
    },
    {
      "cell_type": "code",
      "source": [
        "from google.colab import drive\n",
        "drive.mount('/content/drive')"
      ],
      "metadata": {
        "id": "yPI3kdW2tzf3"
      },
      "execution_count": null,
      "outputs": []
    }
  ]
}