{
  "nbformat": 4,
  "nbformat_minor": 0,
  "metadata": {
    "colab": {
      "provenance": []
    },
    "kernelspec": {
      "name": "python3",
      "display_name": "Python 3"
    },
    "language_info": {
      "name": "python"
    }
  },
  "cells": [
    {
      "cell_type": "code",
      "execution_count": null,
      "metadata": {
        "id": "PHQ0Q5E1t5ep"
      },
      "outputs": [],
      "source": [
        "# SP2 Aerosol Data\n",
        "# X_train --> aerosol samples\n",
        "# Y_train --> the class of each of those aerosols (0-6)\n",
        "\n",
        "X_train = np.load(\"/content/drive/MyDrive/Aerosols_Proj/Lab_X_train.npy\")\n",
        "Y_train = np.load(\"/content/drive/MyDrive/Aerosols_Proj/Lab_Y_train.npy\")\n",
        "\n",
        "X_val = np.load(\"/content/drive/MyDrive/Aerosols_Proj/Lab_X_val.npy\")\n",
        "Y_val = np.load(\"/content/drive/MyDrive/Aerosols_Proj/Lab_Y_val.npy\")\n",
        "\n",
        "X_test = np.load(\"/content/drive/MyDrive/Aerosols_Proj/Lab_X_test.npy\")\n",
        "Y_test = np.load(\"/content/drive/MyDrive/Aerosols_Proj/Lab_Y_test.npy\")"
      ]
    },
    {
      "cell_type": "code",
      "source": [
        "# Print out the channel 0, 1, 2, 3, for one random aerosol sample in X_train.\n",
        "# This will be across a 400 point time series\n",
        "# visualization of random channel 0, 1, 2, 3\n",
        "\n",
        "n = random.randint(1, 140081)\n",
        "fig, axes = plt.subplots(nrows=1, ncols=4, figsize=(12,3))\n",
        "axes[0].plot(X_train[n,:,0])\n",
        "axes[0].set_title(\"Ch. 0\")\n",
        "axes[1].plot(X_train[n,:,1])\n",
        "axes[1].set_title(\"Ch. 1\")\n",
        "axes[2].plot(X_train[n,:,2])\n",
        "axes[2].set_title(\"Ch. 2\")\n",
        "axes[3].plot(X_train[n,:,3])\n",
        "axes[3].set_title(\"Ch. 3\")\n",
        "\n",
        "random_indices = [random.randint(0, 140081) for _ in range(5)]\n",
        "\n",
        "for idx in random_indices:\n",
        "    print(X_train[idx, 199, :])"
      ],
      "metadata": {
        "id": "LoPguPzCuOYq"
      },
      "execution_count": null,
      "outputs": []
    },
    {
      "cell_type": "code",
      "source": [
        "# Computing the max peak across time series of particle for all datapoints\n",
        "# Will be used as parameter with latent variables\n",
        "original_max_X_train = np.zeros((140082, 4))\n",
        "for p_idx in range(140082):\n",
        "  for c_idx in range(4):\n",
        "    original_max_X_train[p_idx][c_idx] = np.max(X_train[p_idx, :, c_idx])"
      ],
      "metadata": {
        "id": "xA3aOCz8uEs4"
      },
      "execution_count": null,
      "outputs": []
    },
    {
      "cell_type": "code",
      "source": [
        "# Maximum value along axis 1, channels 1 and 2 (400 points)\n",
        "max1 = np.max(X_train[:, :, 1], axis=1)\n",
        "max2 = np.max(X_train[:, :, 2], axis=1)\n",
        "\n",
        "# Calculate the color channel ratio for all 400 points\n",
        "# Color ratio computed by dividing channel 2 by channel 1\n",
        "color_channel_ratio = max2 / max1\n",
        "\n",
        "color_channel_ratio"
      ],
      "metadata": {
        "id": "j4bcnyssuHeu"
      },
      "execution_count": null,
      "outputs": []
    },
    {
      "cell_type": "code",
      "source": [
        "# Preprocessing of the RAW Aerosol Data\n",
        "# Performed using the channel_min and channel_max parameters\n",
        "\n",
        "channel_min_X_train = np.zeros((140082, 4))\n",
        "channel_max_X_train = np.zeros((140082, 4))\n",
        "\n",
        "for p_idx in range(140082):\n",
        "  for c_idx in range(4):\n",
        "    channel_min_X_train[p_idx][c_idx] = np.min(X_train[p_idx, :, c_idx])\n",
        "\n",
        "  for c_idx in range(4):\n",
        "    channel_max_X_train[p_idx][c_idx] = np.max(X_train[p_idx, :, c_idx])\n",
        "\n",
        "\n",
        "for p_idx in range (0,140082):\n",
        "  for c_idx in range(0, 4):\n",
        "    s0 = (X_train[p_idx,:,c_idx] - channel_min_X_train[p_idx][c_idx])/(channel_max_X_train[p_idx][c_idx]- channel_min_X_train[p_idx][c_idx])\n",
        "    X_train[p_idx,:,c_idx] = s0\n",
        "\n",
        "X_train"
      ],
      "metadata": {
        "id": "_vAQf8qgxDwW"
      },
      "execution_count": null,
      "outputs": []
    },
    {
      "cell_type": "code",
      "source": [
        "# FOR CHANNEL 0 ---> Initialize train loader\n",
        "X_train_C0 = torch.from_numpy(X_train[:,:, 0]).float()\n",
        "\n",
        "train_loader_0 = pv.utils.init_dataloader(X_train_C0.unsqueeze(1), batch_size=64)\n",
        "\n",
        "fig, axes = plt.subplots(8, 8, figsize=(8, 8), dpi=300,\n",
        "                         subplot_kw={'xticks':[], 'yticks':[]},\n",
        "                         gridspec_kw=dict(hspace=0.1, wspace=0.1))\n",
        "\n",
        "for ax, (y,) in zip(axes.flat, train_loader_0):\n",
        "    y_use = y.numpy()\n",
        "    ax.plot(y_use[0, 0])\n",
        "\n",
        "plt.savefig('high_res_figure_channel_0.png', dpi=300)\n",
        "plt.close(fig)\n",
        "\n",
        "# HIGH Resolution Download\n",
        "# from google.colab import files\n",
        "# files.download('high_res_figure.png')"
      ],
      "metadata": {
        "id": "68dawHL0xGVV"
      },
      "execution_count": null,
      "outputs": []
    },
    {
      "cell_type": "code",
      "source": [
        "# FOR CHANNEL 1 ---> Initialize train loader\n",
        "\n",
        "X_train_C1 = torch.from_numpy(X_train[:,:, 1]).float()\n",
        "\n",
        "train_loader_1 = pv.utils.init_dataloader(X_train_C1.unsqueeze(1), batch_size=64)\n",
        "\n",
        "fig, axes = plt.subplots(8, 8, figsize=(8, 8), dpi=300,\n",
        "                         subplot_kw={'xticks':[], 'yticks':[]},\n",
        "                         gridspec_kw=dict(hspace=0.1, wspace=0.1))\n",
        "\n",
        "for ax, (y,) in zip(axes.flat, train_loader_1):\n",
        "    y_use = y.numpy()\n",
        "    ax.plot(y_use[0, 0])\n",
        "\n",
        "plt.savefig('high_res_figure_channel_1.png', dpi=300)\n",
        "plt.close(fig)\n",
        "\n",
        "# HIGH Resolution Download\n",
        "# from google.colab import files\n",
        "# files.download('high_res_figure_channel_1.png')"
      ],
      "metadata": {
        "id": "9fSxAvHSxLFy"
      },
      "execution_count": null,
      "outputs": []
    }
  ]
}